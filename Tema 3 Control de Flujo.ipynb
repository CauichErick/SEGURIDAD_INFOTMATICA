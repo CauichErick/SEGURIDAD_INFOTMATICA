{
 "cells": [
  {
   "cell_type": "code",
   "execution_count": 6,
   "id": "caadde8c",
   "metadata": {},
   "outputs": [
    {
     "name": "stdout",
     "output_type": "stream",
     "text": [
      "ingresa el inicio_rango: 10\n",
      "ingresa el final_rango: 15\n",
      "ingresa el inicio_tabla: 10\n",
      "ingresa el final_tabla: 15\n",
      "10 * 10 = 100\n",
      "10 * 11 = 110\n",
      "10 * 12 = 120\n",
      "10 * 13 = 130\n",
      "10 * 14 = 140\n",
      "10 * 15 = 150\n",
      "\n",
      "11 * 10 = 110\n",
      "11 * 11 = 121\n",
      "11 * 12 = 132\n",
      "11 * 13 = 143\n",
      "11 * 14 = 154\n",
      "11 * 15 = 165\n",
      "\n",
      "12 * 10 = 120\n",
      "12 * 11 = 132\n",
      "12 * 12 = 144\n",
      "12 * 13 = 156\n",
      "12 * 14 = 168\n",
      "12 * 15 = 180\n",
      "\n",
      "13 * 10 = 130\n",
      "13 * 11 = 143\n",
      "13 * 12 = 156\n",
      "13 * 13 = 169\n",
      "13 * 14 = 182\n",
      "13 * 15 = 195\n",
      "\n",
      "14 * 10 = 140\n",
      "14 * 11 = 154\n",
      "14 * 12 = 168\n",
      "14 * 13 = 182\n",
      "14 * 14 = 196\n",
      "14 * 15 = 210\n",
      "\n",
      "15 * 10 = 150\n",
      "15 * 11 = 165\n",
      "15 * 12 = 180\n",
      "15 * 13 = 195\n",
      "15 * 14 = 210\n",
      "15 * 15 = 225\n",
      "\n"
     ]
    }
   ],
   "source": [
    "inicio_rango = int(input(\"ingresa el inicio_rango: \"))\n",
    "final_rango = int(input(\"ingresa el final_rango: \"))\n",
    "inicio_tabla = int(input(\"ingresa el inicio_tabla: \"))\n",
    "final_tabla = int(input(\"ingresa el final_tabla: \"))\n",
    "\n",
    "for i in range(inicio_rango, final_rango + 1):\n",
    "    for mul in range(inicio_tabla, final_tabla + 1):\n",
    "        print(f\"{i} * {mul} = {i * mul}\")\n",
    "    print()\n",
    "        \n",
    "        "
   ]
  },
  {
   "cell_type": "code",
   "execution_count": null,
   "id": "8767e3b9",
   "metadata": {},
   "outputs": [],
   "source": []
  }
 ],
 "metadata": {
  "kernelspec": {
   "display_name": "Python 3 (ipykernel)",
   "language": "python",
   "name": "python3"
  },
  "language_info": {
   "codemirror_mode": {
    "name": "ipython",
    "version": 3
   },
   "file_extension": ".py",
   "mimetype": "text/x-python",
   "name": "python",
   "nbconvert_exporter": "python",
   "pygments_lexer": "ipython3",
   "version": "3.11.5"
  }
 },
 "nbformat": 4,
 "nbformat_minor": 5
}
