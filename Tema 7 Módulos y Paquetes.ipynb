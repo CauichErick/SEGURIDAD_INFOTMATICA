{
 "cells": [
  {
   "cell_type": "code",
   "execution_count": 4,
   "id": "1ccc9e80",
   "metadata": {},
   "outputs": [],
   "source": [
    "import operaciones\n",
    "from mipaquete import mequiere"
   ]
  },
  {
   "cell_type": "code",
   "execution_count": 5,
   "id": "9d2ec004",
   "metadata": {},
   "outputs": [
    {
     "name": "stdout",
     "output_type": "stream",
     "text": [
      "8\n"
     ]
    }
   ],
   "source": [
    "resultado = operaciones.suma(5, 3)\n",
    "print(resultado)  # Imprimirá 8"
   ]
  },
  {
   "cell_type": "code",
   "execution_count": 6,
   "id": "e12e8eaa",
   "metadata": {},
   "outputs": [
    {
     "name": "stdout",
     "output_type": "stream",
     "text": [
      "2\n"
     ]
    }
   ],
   "source": [
    "resultado = operaciones.resta(5, 3)\n",
    "print(resultado)"
   ]
  },
  {
   "cell_type": "code",
   "execution_count": 7,
   "id": "129a4021",
   "metadata": {},
   "outputs": [
    {
     "name": "stdout",
     "output_type": "stream",
     "text": [
      "15\n"
     ]
    }
   ],
   "source": [
    "resultado = operaciones.multiplicacion(5, 3)\n",
    "print(resultado) "
   ]
  },
  {
   "cell_type": "code",
   "execution_count": 11,
   "id": "b2a11cd1",
   "metadata": {},
   "outputs": [
    {
     "name": "stdout",
     "output_type": "stream",
     "text": [
      "hola me quieres?si\n",
      "si\n"
     ]
    }
   ],
   "source": [
    " mequiere.mequiere()"
   ]
  },
  {
   "cell_type": "code",
   "execution_count": 1,
   "id": "2b499df9",
   "metadata": {},
   "outputs": [
    {
     "name": "stdout",
     "output_type": "stream",
     "text": [
      "El promedio de las 5 calificaciones es: <function promedio at 0x000001E849AE44A0>\n"
     ]
    }
   ],
   "source": [
    "from prueba import modulo1\n",
    "from prueba import modulo2\n",
    "from prueba import modulo3"
   ]
  },
  {
   "cell_type": "code",
   "execution_count": 2,
   "id": "b30ea8e4",
   "metadata": {},
   "outputs": [
    {
     "name": "stdout",
     "output_type": "stream",
     "text": [
      "ingresa el inicio_rango: 5\n",
      "ingresa el final_rango: 5\n",
      "ingresa el inicio_tabla: 5\n",
      "ingresa el final_tabla: 5\n",
      "5 * 5 = 25\n",
      "\n"
     ]
    }
   ],
   "source": [
    "modulo1.tabla()"
   ]
  },
  {
   "cell_type": "code",
   "execution_count": 3,
   "id": "ac7c7161",
   "metadata": {},
   "outputs": [
    {
     "name": "stdout",
     "output_type": "stream",
     "text": [
      "Ingresa la primera calificación: 5\n",
      "Ingresa la segunda calificación: 5\n",
      "Ingresa la tercera calificación: 5\n",
      "Ingresa la cuarta calificación: 5\n",
      "Ingresa la quinta calificación: 5\n"
     ]
    },
    {
     "data": {
      "text/plain": [
       "5.0"
      ]
     },
     "execution_count": 3,
     "metadata": {},
     "output_type": "execute_result"
    }
   ],
   "source": [
    "modulo3.promedio()"
   ]
  },
  {
   "cell_type": "code",
   "execution_count": 4,
   "id": "f4867e51",
   "metadata": {},
   "outputs": [
    {
     "name": "stdout",
     "output_type": "stream",
     "text": [
      "Ingresa tu nombre: kjsdfd\n",
      "Ingresa tu edad: wfwe\n",
      "Ingresa tu correo: wer\n",
      "Ingresa tu número de teléfono: \n",
      "Información guardada exitosamente. Aquí está la información que proporcionaste:\n",
      " su nombre es:kjsdfd y su numero \n"
     ]
    }
   ],
   "source": [
    "modulo2.informacion_p()"
   ]
  },
  {
   "cell_type": "code",
   "execution_count": null,
   "id": "ea6f5926",
   "metadata": {},
   "outputs": [],
   "source": []
  }
 ],
 "metadata": {
  "kernelspec": {
   "display_name": "Python 3 (ipykernel)",
   "language": "python",
   "name": "python3"
  },
  "language_info": {
   "codemirror_mode": {
    "name": "ipython",
    "version": 3
   },
   "file_extension": ".py",
   "mimetype": "text/x-python",
   "name": "python",
   "nbconvert_exporter": "python",
   "pygments_lexer": "ipython3",
   "version": "3.11.5"
  }
 },
 "nbformat": 4,
 "nbformat_minor": 5
}
