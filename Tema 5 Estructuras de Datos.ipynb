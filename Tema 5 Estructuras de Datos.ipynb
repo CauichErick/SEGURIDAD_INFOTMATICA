{
 "cells": [
  {
   "cell_type": "code",
   "execution_count": 4,
   "id": "6e817bf4",
   "metadata": {},
   "outputs": [],
   "source": [
    "# 1. Listas\n",
    "\n",
    "frutas = [\"manzana\", \"banana\", \"cereza\"]\n",
    "numeros = [1, 2, 3, 4, 5]\n",
    "mixto = [\"texto\", 123, True, 3.14]"
   ]
  },
  {
   "cell_type": "code",
   "execution_count": 6,
   "id": "84d514c3",
   "metadata": {
    "scrolled": true
   },
   "outputs": [
    {
     "name": "stdout",
     "output_type": "stream",
     "text": [
      "manzana\n",
      "1\n",
      "2\n",
      "3\n",
      "4\n",
      "5\n"
     ]
    }
   ],
   "source": [
    " # acceso a datos\n",
    "\n",
    "print(frutas[0])\n",
    "\n",
    "for numero in numeros:\n",
    "    print(numero)"
   ]
  },
  {
   "cell_type": "code",
   "execution_count": 7,
   "id": "811fd12d",
   "metadata": {},
   "outputs": [
    {
     "name": "stdout",
     "output_type": "stream",
     "text": [
      "['texto', 'Holamundo', True, 3.14]\n"
     ]
    }
   ],
   "source": [
    "mixto[1] = \"Holamundo\"\n",
    "print(mixto)"
   ]
  },
  {
   "cell_type": "code",
   "execution_count": null,
   "id": "10a3eeed",
   "metadata": {},
   "outputs": [],
   "source": [
    "frutas.append(\"naranja\")    # Agrega un elemento al final\n",
    "frutas.remove(\"manzana\")    # Elimina un elemento específico\n",
    "frutas.pop()                # Elimina el último elemento"
   ]
  },
  {
   "cell_type": "code",
   "execution_count": 8,
   "id": "c7e6e73f",
   "metadata": {},
   "outputs": [],
   "source": [
    "# 2.Tuplas\n",
    "\n",
    "colores = (\"rojo\", \"verde\", \"azul\")"
   ]
  },
  {
   "cell_type": "code",
   "execution_count": 9,
   "id": "bb667ee4",
   "metadata": {},
   "outputs": [
    {
     "name": "stdout",
     "output_type": "stream",
     "text": [
      "verde\n"
     ]
    }
   ],
   "source": [
    "print(colores[1])    # Imprime \"verde\""
   ]
  },
  {
   "cell_type": "code",
   "execution_count": 10,
   "id": "323cd453",
   "metadata": {},
   "outputs": [],
   "source": [
    "# 3. Conjuntos (Sets)\n",
    "\n",
    "animales = {\"gato\", \"perro\", \"pez\"}"
   ]
  },
  {
   "cell_type": "code",
   "execution_count": 11,
   "id": "2d4da5b0",
   "metadata": {},
   "outputs": [],
   "source": [
    "# Metodos\n",
    "\n",
    "animales.add(\"pájaro\")     # Agrega un elemento\n",
    "animales.remove(\"pez\")     # Elimina un elemento"
   ]
  },
  {
   "cell_type": "code",
   "execution_count": 1,
   "id": "508e133a",
   "metadata": {},
   "outputs": [],
   "source": [
    "# 4. Diccionarios\n",
    "\n",
    "persona = {\n",
    "    \"nombre\": \"Erick\",\n",
    "    \"ap_paterno\": \"Cauich\",\n",
    "    \"ap_materno\": \"Chan\",\n",
    "    \"edad\": 20,\n",
    "    \"ciudad\": \"Cancun\",\n",
    "    \"altura\": 1.76,\n",
    "    \"peso\": 80\n",
    "}"
   ]
  },
  {
   "cell_type": "code",
   "execution_count": 2,
   "id": "3c11f904",
   "metadata": {},
   "outputs": [
    {
     "name": "stdout",
     "output_type": "stream",
     "text": [
      "20\n"
     ]
    }
   ],
   "source": [
    "print(persona[\"edad\"])"
   ]
  },
  {
   "cell_type": "code",
   "execution_count": 4,
   "id": "c03eca37",
   "metadata": {},
   "outputs": [
    {
     "name": "stdout",
     "output_type": "stream",
     "text": [
      "Erick sobrepeso: IMC 25.8\n"
     ]
    }
   ],
   "source": [
    "# funcion que me determine el IMC, y que me diga\n",
    "# nivel de peso \n",
    "\n",
    "\n",
    "def imc(peso,altura,nombre):\n",
    "    imc_p = peso/altura**2\n",
    "    \n",
    "    if imc_p < 18.5:\n",
    "        print(f\"{nombre} estas bajo de peso: IMC {round(imc_p,1)}\")\n",
    "    elif imc_p > 18.5 and imc_p <= 24.9:\n",
    "        print(f\"{nombre} peso normal: IMC {round(imc_p,1)}\")\n",
    "    elif imc_p > 25 and imc_p <= 29.9:\n",
    "        print(f\"{nombre} sobrepeso: IMC {round(imc_p,1)}\")\n",
    "    else:\n",
    "        print(f\"{nombre} obesidad: IMC {round(imc_p,1)}\")\n",
    "\n",
    "    \n",
    "    \n",
    "peso_p = persona[\"peso\"]\n",
    "altura_p = persona[\"altura\"]\n",
    "nombre_p = persona[\"nombre\"]\n",
    "\n",
    "imc(peso_p,altura_p,nombre_p)\n",
    "          \n",
    " "
   ]
  },
  {
   "cell_type": "code",
   "execution_count": 13,
   "id": "c032d532",
   "metadata": {},
   "outputs": [
    {
     "name": "stdout",
     "output_type": "stream",
     "text": [
      "nombre\n",
      "edad\n",
      "ciudad\n"
     ]
    }
   ],
   "source": [
    " for k in persona:\n",
    "        print(k)"
   ]
  },
  {
   "cell_type": "code",
   "execution_count": 14,
   "id": "17422297",
   "metadata": {},
   "outputs": [
    {
     "name": "stdout",
     "output_type": "stream",
     "text": [
      "Juan\n",
      "25\n",
      "Madrid\n"
     ]
    }
   ],
   "source": [
    "for v in persona.values():\n",
    "    print(v)"
   ]
  },
  {
   "cell_type": "code",
   "execution_count": 15,
   "id": "bfd15b7d",
   "metadata": {},
   "outputs": [
    {
     "name": "stdout",
     "output_type": "stream",
     "text": [
      "La clave es: nombre y el valor es: Juan\n",
      "La clave es: edad y el valor es: 25\n",
      "La clave es: ciudad y el valor es: Madrid\n"
     ]
    }
   ],
   "source": [
    "for k,v in persona.items():\n",
    "    print(f\"La clave es: {k} y el valor es: {v}\")"
   ]
  },
  {
   "cell_type": "code",
   "execution_count": null,
   "id": "08aec6c7",
   "metadata": {},
   "outputs": [],
   "source": []
  }
 ],
 "metadata": {
  "kernelspec": {
   "display_name": "Python 3 (ipykernel)",
   "language": "python",
   "name": "python3"
  },
  "language_info": {
   "codemirror_mode": {
    "name": "ipython",
    "version": 3
   },
   "file_extension": ".py",
   "mimetype": "text/x-python",
   "name": "python",
   "nbconvert_exporter": "python",
   "pygments_lexer": "ipython3",
   "version": "3.11.5"
  }
 },
 "nbformat": 4,
 "nbformat_minor": 5
}
