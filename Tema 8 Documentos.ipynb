{
 "cells": [
  {
   "cell_type": "markdown",
   "id": "5368af60",
   "metadata": {},
   "source": [
    "###     \"r\": Lectura (por defecto).\n",
    "    \"w\": Escritura (sobrescribe el archivo si ya existe).\n",
    "    \"a\": Añadir (agrega contenido al final del archivo si ya existe).\n",
    "    \"b\": Modo binario (se utiliza junto con otros modos, como \"rb\" o \"wb\").\n"
   ]
  },
  {
   "cell_type": "code",
   "execution_count": 1,
   "id": "32ecbfdf",
   "metadata": {},
   "outputs": [
    {
     "name": "stdout",
     "output_type": "stream",
     "text": [
      "hola mundo como estas\n"
     ]
    }
   ],
   "source": [
    "archivo = open(\"hola.txt\",\"r\")\n",
    "\n",
    "resultado = archivo.read()\n",
    "\n",
    "print(resultado)"
   ]
  },
  {
   "cell_type": "code",
   "execution_count": null,
   "id": "e8482258",
   "metadata": {},
   "outputs": [],
   "source": [
    " #como poder abrir un archvio de word, pdf, excel"
   ]
  },
  {
   "cell_type": "code",
   "execution_count": 4,
   "id": "40e1e162",
   "metadata": {},
   "outputs": [
    {
     "name": "stdout",
     "output_type": "stream",
     "text": [
      "Requirement already satisfied: python-docx in c:\\users\\erick yahir\\anaconda3\\lib\\site-packages (1.1.0)\n",
      "Requirement already satisfied: lxml>=3.1.0 in c:\\users\\erick yahir\\anaconda3\\lib\\site-packages (from python-docx) (4.9.3)\n",
      "Requirement already satisfied: typing-extensions in c:\\users\\erick yahir\\anaconda3\\lib\\site-packages (from python-docx) (4.7.1)\n",
      "Note: you may need to restart the kernel to use updated packages.\n"
     ]
    }
   ],
   "source": [
    "pip install python-docx"
   ]
  },
  {
   "cell_type": "code",
   "execution_count": 9,
   "id": "6b211a3c",
   "metadata": {},
   "outputs": [],
   "source": [
    "import docx"
   ]
  },
  {
   "cell_type": "code",
   "execution_count": 10,
   "id": "c0636cb8",
   "metadata": {
    "scrolled": true
   },
   "outputs": [
    {
     "name": "stdout",
     "output_type": "stream",
     "text": [
      "Hola mundo\n"
     ]
    }
   ],
   "source": [
    "file_path = \"word.docx\"\n",
    "\n",
    "doc = docx.Document(file_path)\n",
    "\n",
    "for para in doc.paragraphs: # Lee el contenido del documento\n",
    "    print(para.text)"
   ]
  },
  {
   "cell_type": "code",
   "execution_count": null,
   "id": "9f6e50ed",
   "metadata": {},
   "outputs": [],
   "source": [
    "# LEER EXCEL"
   ]
  },
  {
   "cell_type": "code",
   "execution_count": 12,
   "id": "d215bdf7",
   "metadata": {
    "scrolled": false
   },
   "outputs": [
    {
     "name": "stdout",
     "output_type": "stream",
     "text": [
      "Requirement already satisfied: pandas in c:\\users\\erick yahir\\anaconda3\\lib\\site-packages (2.0.3)\n",
      "Requirement already satisfied: python-dateutil>=2.8.2 in c:\\users\\erick yahir\\anaconda3\\lib\\site-packages (from pandas) (2.8.2)\n",
      "Requirement already satisfied: pytz>=2020.1 in c:\\users\\erick yahir\\anaconda3\\lib\\site-packages (from pandas) (2023.3.post1)\n",
      "Requirement already satisfied: tzdata>=2022.1 in c:\\users\\erick yahir\\anaconda3\\lib\\site-packages (from pandas) (2023.3)\n",
      "Requirement already satisfied: numpy>=1.21.0 in c:\\users\\erick yahir\\anaconda3\\lib\\site-packages (from pandas) (1.24.3)\n",
      "Requirement already satisfied: six>=1.5 in c:\\users\\erick yahir\\anaconda3\\lib\\site-packages (from python-dateutil>=2.8.2->pandas) (1.16.0)\n",
      "Note: you may need to restart the kernel to use updated packages.\n"
     ]
    }
   ],
   "source": [
    "pip install pandas"
   ]
  },
  {
   "cell_type": "code",
   "execution_count": 4,
   "id": "dbb09d1b",
   "metadata": {
    "scrolled": true
   },
   "outputs": [],
   "source": [
    "import pandas as pd"
   ]
  },
  {
   "cell_type": "code",
   "execution_count": 9,
   "id": "f60379b1",
   "metadata": {
    "scrolled": true
   },
   "outputs": [
    {
     "data": {
      "text/html": [
       "<div>\n",
       "<style scoped>\n",
       "    .dataframe tbody tr th:only-of-type {\n",
       "        vertical-align: middle;\n",
       "    }\n",
       "\n",
       "    .dataframe tbody tr th {\n",
       "        vertical-align: top;\n",
       "    }\n",
       "\n",
       "    .dataframe thead th {\n",
       "        text-align: right;\n",
       "    }\n",
       "</style>\n",
       "<table border=\"1\" class=\"dataframe\">\n",
       "  <thead>\n",
       "    <tr style=\"text-align: right;\">\n",
       "      <th></th>\n",
       "      <th>hola mundoo</th>\n",
       "    </tr>\n",
       "  </thead>\n",
       "  <tbody>\n",
       "  </tbody>\n",
       "</table>\n",
       "</div>"
      ],
      "text/plain": [
       "Empty DataFrame\n",
       "Columns: [hola mundoo]\n",
       "Index: []"
      ]
     },
     "execution_count": 9,
     "metadata": {},
     "output_type": "execute_result"
    }
   ],
   "source": [
    "file_path = \"excel.xlsx\"\n",
    "\n",
    "df = pd.read_excel(file_path) # Utiliza la función de pandas 'read_excel' para leer el archivo Excel\n",
    "\n",
    "df.head()# Muestra los primeros 5 registros del DataFrame (puedes ajustar el número)"
   ]
  },
  {
   "cell_type": "code",
   "execution_count": null,
   "id": "fff5644c",
   "metadata": {},
   "outputs": [],
   "source": [
    "#LEER PDF"
   ]
  },
  {
   "cell_type": "code",
   "execution_count": 38,
   "id": "56d9a09d",
   "metadata": {
    "scrolled": true
   },
   "outputs": [
    {
     "name": "stdout",
     "output_type": "stream",
     "text": [
      "Requirement already satisfied: PyMuPDF in c:\\users\\erick yahir\\anaconda3\\lib\\site-packages (1.23.6)\n",
      "Requirement already satisfied: PyMuPDFb==1.23.6 in c:\\users\\erick yahir\\anaconda3\\lib\\site-packages (from PyMuPDF) (1.23.6)\n",
      "Note: you may need to restart the kernel to use updated packages.\n"
     ]
    }
   ],
   "source": [
    "pip install PyMuPDF"
   ]
  },
  {
   "cell_type": "code",
   "execution_count": 39,
   "id": "7e3ad281",
   "metadata": {},
   "outputs": [],
   "source": [
    "import fitz"
   ]
  },
  {
   "cell_type": "code",
   "execution_count": 40,
   "id": "80181bfe",
   "metadata": {},
   "outputs": [
    {
     "name": "stdout",
     "output_type": "stream",
     "text": [
      "Hola mundo \n",
      "\n"
     ]
    }
   ],
   "source": [
    "file_path = \"pdf.pdf\"\n",
    "\n",
    "text = \"\"\n",
    "\n",
    "pdf_document = fitz.open(file_path)\n",
    "\n",
    "for page_num in range(len(pdf_document)):\n",
    "    page = pdf_document[page_num]\n",
    "    text += page.get_text()\n",
    "\n",
    "pdf_document.close()\n",
    "\n",
    "print(text)"
   ]
  },
  {
   "cell_type": "code",
   "execution_count": null,
   "id": "f12f4f01",
   "metadata": {},
   "outputs": [],
   "source": []
  }
 ],
 "metadata": {
  "kernelspec": {
   "display_name": "Python 3 (ipykernel)",
   "language": "python",
   "name": "python3"
  },
  "language_info": {
   "codemirror_mode": {
    "name": "ipython",
    "version": 3
   },
   "file_extension": ".py",
   "mimetype": "text/x-python",
   "name": "python",
   "nbconvert_exporter": "python",
   "pygments_lexer": "ipython3",
   "version": "3.11.5"
  }
 },
 "nbformat": 4,
 "nbformat_minor": 5
}
